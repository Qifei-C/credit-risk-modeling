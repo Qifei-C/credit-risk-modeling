{
 "cells": [
  {
   "cell_type": "markdown",
   "id": "4dfef0c9-a2fb-4341-a3ae-59f54460cc31",
   "metadata": {},
   "source": [
    "# Data Analysis Part"
   ]
  },
  {
   "cell_type": "markdown",
   "id": "c427a674-a945-46aa-b62b-86679fa8724b",
   "metadata": {},
   "source": [
    "In this section, we focus on analyzing the structure and distribution in each concatenated dataframe. Since each dataframe "
   ]
  },
  {
   "cell_type": "code",
   "execution_count": 1,
   "id": "48c00ea1-e4e2-42db-934f-3c34958abb56",
   "metadata": {},
   "outputs": [],
   "source": [
    "import os\n",
    "import pandas as pd\n",
    "\n",
    "data_folder = './data/parquet_files/train/'"
   ]
  },
  {
   "cell_type": "markdown",
   "id": "4d7f86d0-05b0-4dba-a471-a63a5b1366e3",
   "metadata": {},
   "source": [
    "## DataFrames"
   ]
  },
  {
   "cell_type": "markdown",
   "id": "786d2933-666f-4846-91e0-fe8edc19d92d",
   "metadata": {},
   "source": [
    "**"
   ]
  }
 ],
 "metadata": {
  "kernelspec": {
   "display_name": "Python 3 (ipykernel)",
   "language": "python",
   "name": "python3"
  },
  "language_info": {
   "codemirror_mode": {
    "name": "ipython",
    "version": 3
   },
   "file_extension": ".py",
   "mimetype": "text/x-python",
   "name": "python",
   "nbconvert_exporter": "python",
   "pygments_lexer": "ipython3",
   "version": "3.10.13"
  }
 },
 "nbformat": 4,
 "nbformat_minor": 5
}
