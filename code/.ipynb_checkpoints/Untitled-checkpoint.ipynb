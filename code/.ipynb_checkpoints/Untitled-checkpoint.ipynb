{
 "cells": [
  {
   "cell_type": "markdown",
   "id": "4dfef0c9-a2fb-4341-a3ae-59f54460cc31",
   "metadata": {},
   "source": [
    "# Data Analysis Part"
   ]
  },
  {
   "cell_type": "markdown",
   "id": "c427a674-a945-46aa-b62b-86679fa8724b",
   "metadata": {},
   "source": [
    "In this section, I will analysis the structure and distribution in each concatenated dataframe."
   ]
  },
  {
   "cell_type": "code",
   "execution_count": 1,
   "id": "48c00ea1-e4e2-42db-934f-3c34958abb56",
   "metadata": {},
   "outputs": [],
   "source": [
    "import os\n",
    "import pandas as pd\n",
    "\n",
    "data_folder = './data/processed_files/train/'"
   ]
  },
  {
   "cell_type": "markdown",
   "id": "4d7f86d0-05b0-4dba-a471-a63a5b1366e3",
   "metadata": {},
   "source": [
    "## "
   ]
  }
 ],
 "metadata": {
  "kernelspec": {
   "display_name": "Python 3 (ipykernel)",
   "language": "python",
   "name": "python3"
  },
  "language_info": {
   "codemirror_mode": {
    "name": "ipython",
    "version": 3
   },
   "file_extension": ".py",
   "mimetype": "text/x-python",
   "name": "python",
   "nbconvert_exporter": "python",
   "pygments_lexer": "ipython3",
   "version": "3.10.13"
  }
 },
 "nbformat": 4,
 "nbformat_minor": 5
}
