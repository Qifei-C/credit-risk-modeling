{
 "cells": [
  {
   "cell_type": "code",
   "execution_count": null,
   "id": "d85a9f1e-e34d-475c-af37-70733dd35483",
   "metadata": {},
   "outputs": [],
   "source": [
    "# pip install fastparquet"
   ]
  },
  {
   "cell_type": "code",
   "execution_count": null,
   "id": "2e78a55c-bd1b-448c-871e-4dcad6ce8a6c",
   "metadata": {},
   "outputs": [],
   "source": [
    "import os\n",
    "import pandas as pd"
   ]
  },
  {
   "cell_type": "code",
   "execution_count": null,
   "id": "f493ed85-b5f9-4eb2-8c47-4383fcae8803",
   "metadata": {},
   "outputs": [],
   "source": [
    "dataframes = {}\n",
    "data_folder = './data/parquet_files/train/'\n",
    "\n",
    "for filename in os.listdir(data_folder):\n",
    "    file_path = os.path.join(data_folder, filename)\n",
    "    df = pd.read_parquet(file_path)\n",
    "    dataframes[filename] = df\n",
    "\n",
    "print(\"Dataframes imported:\")\n",
    "for name in dataframes:\n",
    "    print(name)\n"
   ]
  },
  {
   "cell_type": "markdown",
   "id": "76421a43-f049-4ad0-86c2-3ea17d951229",
   "metadata": {},
   "source": [
    "User BASE Information def environment\n",
    "Sequential Data"
   ]
  },
  {
   "cell_type": "code",
   "execution_count": null,
   "id": "5aeee995-b8fc-4868-a2e3-98c17a306b4e",
   "metadata": {},
   "outputs": [],
   "source": [
    "for filename, df in dataframes.items():\n",
    "    print(f\"Head of '{filename}':\")\n",
    "    print(df.head(), \"\\n\") "
   ]
  },
  {
   "cell_type": "code",
   "execution_count": null,
   "id": "756a0bb3-e337-4c1d-9980-820ae30154bf",
   "metadata": {},
   "outputs": [],
   "source": [
    "for filename, df in dataframes.items():\n",
    "    print(f\"Columns of '{filename}':\")\n",
    "    print(df.columns, \"\\n\") "
   ]
  },
  {
   "cell_type": "code",
   "execution_count": null,
   "id": "af237a03-1488-44a3-89b9-c97874e67286",
   "metadata": {},
   "outputs": [],
   "source": [
    "from collections import defaultdict\n",
    "\n",
    "column_tracker = defaultdict(int)\n",
    "for filename, df in dataframes.items():\n",
    "    for column in df.columns:\n",
    "        column_tracker[column] += 1\n",
    "\n",
    "duplicate_columns = {column for column, count in column_tracker.items() if count > 1}\n",
    "print(\"Duplicate columns across all DataFrames:\")\n",
    "print(duplicate_columns, \"\\n\")\n",
    "\n",
    "if duplicate_columns:\n",
    "    print(\"Files containing duplicate columns:\")\n",
    "    for column in duplicate_columns:\n",
    "        print(f\"Column '{column}' found in:\")\n",
    "        for filename, df in dataframes.items():\n",
    "            if column in df.columns:\n",
    "                print(f\"  - {filename}\")\n",
    "        print() \n"
   ]
  },
  {
   "cell_type": "code",
   "execution_count": null,
   "id": "511aef56-feb8-4183-92ee-dd5c1086c194",
   "metadata": {},
   "outputs": [],
   "source": [
    "import pandas as pd\n",
    "\n",
    "grouped_dataframes = {}\n",
    "for name, df in dataframes.items():\n",
    "    prefix = name.rsplit('_', 1)[0]\n",
    "    if prefix in grouped_dataframes:\n",
    "        grouped_dataframes[prefix].append(df)\n",
    "    else:\n",
    "        grouped_dataframes[prefix] = [df]\n",
    "\n",
    "for prefix, dfs in grouped_dataframes.items():\n",
    "    concatenated_df = pd.concat(dfs, ignore_index=True)\n",
    "    file_path = os.path.join('./data/processed_files/train', f\"{prefix}_concatenated.parquet\")\n",
    "    concatenated_df.to_parquet(file_path)\n",
    "\n",
    "print(\"All files have been saved successfully.\")\n"
   ]
  },
  {
   "cell_type": "code",
   "execution_count": null,
   "id": "8776d2c3-a37d-44dc-8c29-a17c8dd9ae81",
   "metadata": {},
   "outputs": [],
   "source": [
    "for prefix, df in concatenated_dfs.items():\n",
    "    print(f\"Details for: {prefix}\\n{'=' * 20}\")\n",
    "    print(f\"Shape (Rows, Columns): {df.shape}\")\n",
    "    print(\"\\nData Types:\\n\", df.dtypes)\n",
    "    print(\"\\nMemory Usage:\")\n",
    "    print(df.memory_usage(deep=True).sum(), \"bytes\")\n",
    "    print(\"\\nSummary Statistics:\")\n",
    "    print(df.describe())\n",
    "    print(\"\\nFirst 5 Rows:\")\n",
    "    print(df.head(5))\n",
    "    print(\"\\n\" + \"-\" * 40 + \"\\n\")\n"
   ]
  },
  {
   "cell_type": "code",
   "execution_count": null,
   "id": "6238ab4b-b2cb-459a-8e3e-fc587d045cb2",
   "metadata": {},
   "outputs": [],
   "source": [
    "from functools import reduce\n",
    "\n",
    "combined_df = reduce(lambda left, right: pd.merge(left, right, on='case_id', how='inner'), concatenated_dfs.values())\n",
    "print(\"Combined DataFrame after joining on 'case_id':\")\n"
   ]
  },
  {
   "cell_type": "code",
   "execution_count": null,
   "id": "9c2f0353-8324-4bfb-b2aa-1cdf355424d7",
   "metadata": {},
   "outputs": [],
   "source": []
  }
 ],
 "metadata": {
  "kernelspec": {
   "display_name": "Python 3 (ipykernel)",
   "language": "python",
   "name": "python3"
  },
  "language_info": {
   "codemirror_mode": {
    "name": "ipython",
    "version": 3
   },
   "file_extension": ".py",
   "mimetype": "text/x-python",
   "name": "python",
   "nbconvert_exporter": "python",
   "pygments_lexer": "ipython3",
   "version": "3.10.13"
  }
 },
 "nbformat": 4,
 "nbformat_minor": 5
}
